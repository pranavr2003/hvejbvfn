{
  "nbformat": 4,
  "nbformat_minor": 0,
  "metadata": {
    "colab": {
      "name": "sierra_interactive.ipynb",
      "provenance": [],
      "authorship_tag": "ABX9TyOYtxjNkOel5Kl5Ho5g4u0D",
      "include_colab_link": true
    },
    "kernelspec": {
      "name": "python3",
      "display_name": "Python 3"
    },
    "language_info": {
      "name": "python"
    }
  },
  "cells": [
    {
      "cell_type": "markdown",
      "metadata": {
        "id": "view-in-github",
        "colab_type": "text"
      },
      "source": [
        "<a href=\"https://colab.research.google.com/github/pranavr2003/hvejbvfn/blob/main/sierra_interactive.ipynb\" target=\"_parent\"><img src=\"https://colab.research.google.com/assets/colab-badge.svg\" alt=\"Open In Colab\"/></a>"
      ]
    },
    {
      "cell_type": "code",
      "metadata": {
        "colab": {
          "base_uri": "https://localhost:8080/"
        },
        "id": "CNC9IT5ziXI4",
        "outputId": "c7629af3-750e-4f6b-a106-fb7785872304"
      },
      "source": [
        "!pip install sierra"
      ],
      "execution_count": 2,
      "outputs": [
        {
          "output_type": "stream",
          "text": [
            "Collecting sierra\n",
            "  Downloading https://files.pythonhosted.org/packages/1c/6f/f036d4811f9c29b4902ab778a3fd404c806fb2a14dcfa3066b10fe3de76a/sierra-2.4.0-py3-none-any.whl\n",
            "Requirement already satisfied: pandas in /usr/local/lib/python3.7/dist-packages (from sierra) (1.1.5)\n",
            "Requirement already satisfied: beautifulsoup4 in /usr/local/lib/python3.7/dist-packages (from sierra) (4.6.3)\n",
            "Requirement already satisfied: python-dateutil>=2.7.3 in /usr/local/lib/python3.7/dist-packages (from pandas->sierra) (2.8.1)\n",
            "Requirement already satisfied: numpy>=1.15.4 in /usr/local/lib/python3.7/dist-packages (from pandas->sierra) (1.19.5)\n",
            "Requirement already satisfied: pytz>=2017.2 in /usr/local/lib/python3.7/dist-packages (from pandas->sierra) (2018.9)\n",
            "Requirement already satisfied: six>=1.5 in /usr/local/lib/python3.7/dist-packages (from python-dateutil>=2.7.3->pandas->sierra) (1.15.0)\n",
            "Installing collected packages: sierra\n",
            "Successfully installed sierra-2.4.0\n"
          ],
          "name": "stdout"
        }
      ]
    },
    {
      "cell_type": "code",
      "metadata": {
        "colab": {
          "base_uri": "https://localhost:8080/"
        },
        "id": "uRVwPA4Uigfk",
        "outputId": "3697bed3-f2a2-4805-c14a-8ca9dad191d0"
      },
      "source": [
        "#### Without autoPrettify()\n",
        "\n",
        "import codecs\n",
        "from sierra import *\n",
        "\n",
        "title('Some title')\n",
        "head('Some header', 'h2')\n",
        "\n",
        "openBody()\n",
        "\n",
        "with div(__class='some_class') as d:\n",
        "    p('Some text that falls inside the division')\n",
        "    d.css(background_color='black')\n",
        "    \n",
        "    with section(id='some_id') as sec:\n",
        "        p('Some text within a section within a div')\n",
        "        sec.css(background_color='red')\n",
        "        \n",
        "    with bullets(ul=True, points=['foo', 'bar', 'baz']):\n",
        "        pass\n",
        "\n",
        "writeCSS('p', color='white')\n",
        "\n",
        "# autoPrettify()         # --> Try without this and see index.html, then with this and have a look at index.html again\n",
        "\n",
        "\n",
        "file = codecs.open(\"index.html\", \"r\", \"utf-8\")\n",
        "print(file.read())"
      ],
      "execution_count": 8,
      "outputs": [
        {
          "output_type": "stream",
          "text": [
            "<!doctype html>\n",
            "<html lang=\"en\">\n",
            "<meta charset=\"utf-8\">\n",
            "<head>\n",
            "<title>Some title</title>\n",
            "<link rel=\"stylesheet\" href=\"style.css\">\n",
            "<h2>Some header</h2>\n",
            "<body>\n",
            "<div class=\"some_class\">\n",
            "<p>\n",
            "Some text that falls inside the division\n",
            "</p>\n",
            "<section id=\"some_id\">\n",
            "<p>\n",
            "Some text within a section within a div\n",
            "</p>\n",
            "</section>\n",
            "<ul>\n",
            "<li>foo</li>\n",
            "<li>bar</li>\n",
            "<li>baz</li>\n",
            "</ul>\n",
            "</div>\n"
          ],
          "name": "stdout"
        }
      ]
    },
    {
      "cell_type": "code",
      "metadata": {
        "colab": {
          "base_uri": "https://localhost:8080/"
        },
        "id": "SMZOUwY9kVSe",
        "outputId": "13eca031-f5c0-4c6f-9e20-b6dd7c20237c"
      },
      "source": [
        "### With autoPrettify()\n",
        "\n",
        "import codecs\n",
        "from sierra import *\n",
        "\n",
        "title('Some title')\n",
        "head('Some header', 'h2')\n",
        "\n",
        "openBody()\n",
        "\n",
        "with div(__class='some_class') as d:\n",
        "    p('Some text that falls inside the division')\n",
        "    d.css(background_color='black')\n",
        "    \n",
        "    with section(id='some_id') as sec:\n",
        "        p('Some text within a section within a div')\n",
        "        sec.css(background_color='red')\n",
        "        \n",
        "    with bullets(ul=True, points=['foo', 'bar', 'baz']):\n",
        "        pass\n",
        "\n",
        "writeCSS('p', color='white')\n",
        "\n",
        "autoPrettify()         # --> Try without this and see index.html, then with this and have a look at index.html again\n",
        "\n",
        "\n",
        "file = codecs.open(\"index.html\", \"r\", \"utf-8\")\n",
        "print(file.read())"
      ],
      "execution_count": 10,
      "outputs": [
        {
          "output_type": "stream",
          "text": [
            "<!DOCTYPE doctype html>\n",
            "<html lang=\"en\">\n",
            " <meta charset=\"utf-8\"/>\n",
            " <head>\n",
            "  <title>\n",
            "   Some title\n",
            "  </title>\n",
            "  <link href=\"style.css\" rel=\"stylesheet\"/>\n",
            "  <h2>\n",
            "   Some header\n",
            "  </h2>\n",
            "  <body>\n",
            "   <div class=\"some_class\">\n",
            "    <p>\n",
            "     Some text that falls inside the division\n",
            "    </p>\n",
            "    <section id=\"some_id\">\n",
            "     <p>\n",
            "      Some text within a section within a div\n",
            "     </p>\n",
            "    </section>\n",
            "    <ul>\n",
            "     <li>\n",
            "      foo\n",
            "     </li>\n",
            "     <li>\n",
            "      bar\n",
            "     </li>\n",
            "     <li>\n",
            "      baz\n",
            "     </li>\n",
            "    </ul>\n",
            "   </div>\n",
            "  </body>\n",
            " </head>\n",
            "</html>\n"
          ],
          "name": "stdout"
        },
        {
          "output_type": "stream",
          "text": [
            "main_htm.py:None: UserWarning: Auto prettifying also involves auto closing unclosed HTML tags which may not be accurate if not used after development is complete.\n",
            "Use after all development for best results. See \"bs4 auto closing tags\" for more info.\n"
          ],
          "name": "stderr"
        }
      ]
    },
    {
      "cell_type": "code",
      "metadata": {
        "id": "fDxMWP3nlw_I"
      },
      "source": [
        ""
      ],
      "execution_count": null,
      "outputs": []
    }
  ]
}