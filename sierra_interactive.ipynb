{
  "nbformat": 4,
  "nbformat_minor": 0,
  "metadata": {
    "colab": {
      "name": "sierra_interactive.ipynb",
      "provenance": [],
      "collapsed_sections": [],
      "authorship_tag": "ABX9TyPoaRyTWa6kL/EnRIxpyROR",
      "include_colab_link": true
    },
    "kernelspec": {
      "name": "python3",
      "display_name": "Python 3"
    },
    "language_info": {
      "name": "python"
    }
  },
  "cells": [
    {
      "cell_type": "markdown",
      "metadata": {
        "id": "view-in-github",
        "colab_type": "text"
      },
      "source": [
        "<a href=\"https://colab.research.google.com/github/pranavr2003/hvejbvfn/blob/main/sierra_interactive.ipynb\" target=\"_parent\"><img src=\"https://colab.research.google.com/assets/colab-badge.svg\" alt=\"Open In Colab\"/></a>"
      ]
    },
    {
      "cell_type": "code",
      "metadata": {
        "colab": {
          "base_uri": "https://localhost:8080/"
        },
        "id": "CNC9IT5ziXI4",
        "outputId": "c7629af3-750e-4f6b-a106-fb7785872304"
      },
      "source": [
        "!pip install sierra"
      ],
      "execution_count": null,
      "outputs": [
        {
          "output_type": "stream",
          "text": [
            "Collecting sierra\n",
            "  Downloading https://files.pythonhosted.org/packages/1c/6f/f036d4811f9c29b4902ab778a3fd404c806fb2a14dcfa3066b10fe3de76a/sierra-2.4.0-py3-none-any.whl\n",
            "Requirement already satisfied: pandas in /usr/local/lib/python3.7/dist-packages (from sierra) (1.1.5)\n",
            "Requirement already satisfied: beautifulsoup4 in /usr/local/lib/python3.7/dist-packages (from sierra) (4.6.3)\n",
            "Requirement already satisfied: python-dateutil>=2.7.3 in /usr/local/lib/python3.7/dist-packages (from pandas->sierra) (2.8.1)\n",
            "Requirement already satisfied: numpy>=1.15.4 in /usr/local/lib/python3.7/dist-packages (from pandas->sierra) (1.19.5)\n",
            "Requirement already satisfied: pytz>=2017.2 in /usr/local/lib/python3.7/dist-packages (from pandas->sierra) (2018.9)\n",
            "Requirement already satisfied: six>=1.5 in /usr/local/lib/python3.7/dist-packages (from python-dateutil>=2.7.3->pandas->sierra) (1.15.0)\n",
            "Installing collected packages: sierra\n",
            "Successfully installed sierra-2.4.0\n"
          ],
          "name": "stdout"
        }
      ]
    },
    {
      "cell_type": "code",
      "metadata": {
        "colab": {
          "base_uri": "https://localhost:8080/"
        },
        "id": "uRVwPA4Uigfk",
        "outputId": "3697bed3-f2a2-4805-c14a-8ca9dad191d0"
      },
      "source": [
        "#### Without autoPrettify()\n",
        "\n",
        "import codecs\n",
        "from sierra import *\n",
        "\n",
        "title('Some title')\n",
        "head('Some header', 'h2')\n",
        "\n",
        "openBody()\n",
        "\n",
        "with div(__class='some_class') as d:\n",
        "    p('Some text that falls inside the division')\n",
        "    d.css(background_color='black')\n",
        "    \n",
        "    with section(id='some_id') as sec:\n",
        "        p('Some text within a section within a div')\n",
        "        sec.css(background_color='red')\n",
        "        \n",
        "    with bullets(ul=True, points=['foo', 'bar', 'baz']):\n",
        "        pass\n",
        "\n",
        "writeCSS('p', color='white')\n",
        "\n",
        "# autoPrettify()         # --> Try without this and see index.html, then with this and have a look at index.html again\n",
        "\n",
        "\n",
        "file = codecs.open(\"index.html\", \"r\", \"utf-8\")\n",
        "print(file.read())"
      ],
      "execution_count": null,
      "outputs": [
        {
          "output_type": "stream",
          "text": [
            "<!doctype html>\n",
            "<html lang=\"en\">\n",
            "<meta charset=\"utf-8\">\n",
            "<head>\n",
            "<title>Some title</title>\n",
            "<link rel=\"stylesheet\" href=\"style.css\">\n",
            "<h2>Some header</h2>\n",
            "<body>\n",
            "<div class=\"some_class\">\n",
            "<p>\n",
            "Some text that falls inside the division\n",
            "</p>\n",
            "<section id=\"some_id\">\n",
            "<p>\n",
            "Some text within a section within a div\n",
            "</p>\n",
            "</section>\n",
            "<ul>\n",
            "<li>foo</li>\n",
            "<li>bar</li>\n",
            "<li>baz</li>\n",
            "</ul>\n",
            "</div>\n"
          ],
          "name": "stdout"
        }
      ]
    },
    {
      "cell_type": "code",
      "metadata": {
        "colab": {
          "base_uri": "https://localhost:8080/"
        },
        "id": "SMZOUwY9kVSe",
        "outputId": "13eca031-f5c0-4c6f-9e20-b6dd7c20237c"
      },
      "source": [
        "### With autoPrettify()\n",
        "\n",
        "import codecs\n",
        "from sierra import *\n",
        "\n",
        "title('Some title')\n",
        "head('Some header', 'h2')\n",
        "\n",
        "openBody()\n",
        "\n",
        "with div(__class='some_class') as d:\n",
        "    p('Some text that falls inside the division')\n",
        "    d.css(background_color='black')\n",
        "    \n",
        "    with section(id='some_id') as sec:\n",
        "        p('Some text within a section within a div')\n",
        "        sec.css(background_color='red')\n",
        "        \n",
        "    with bullets(ul=True, points=['foo', 'bar', 'baz']):\n",
        "        pass\n",
        "\n",
        "writeCSS('p', color='white')\n",
        "\n",
        "autoPrettify()         # --> Try without this and see index.html, then with this and have a look at index.html again\n",
        "\n",
        "\n",
        "file = codecs.open(\"index.html\", \"r\", \"utf-8\")\n",
        "print(file.read())"
      ],
      "execution_count": null,
      "outputs": [
        {
          "output_type": "stream",
          "text": [
            "<!DOCTYPE doctype html>\n",
            "<html lang=\"en\">\n",
            " <meta charset=\"utf-8\"/>\n",
            " <head>\n",
            "  <title>\n",
            "   Some title\n",
            "  </title>\n",
            "  <link href=\"style.css\" rel=\"stylesheet\"/>\n",
            "  <h2>\n",
            "   Some header\n",
            "  </h2>\n",
            "  <body>\n",
            "   <div class=\"some_class\">\n",
            "    <p>\n",
            "     Some text that falls inside the division\n",
            "    </p>\n",
            "    <section id=\"some_id\">\n",
            "     <p>\n",
            "      Some text within a section within a div\n",
            "     </p>\n",
            "    </section>\n",
            "    <ul>\n",
            "     <li>\n",
            "      foo\n",
            "     </li>\n",
            "     <li>\n",
            "      bar\n",
            "     </li>\n",
            "     <li>\n",
            "      baz\n",
            "     </li>\n",
            "    </ul>\n",
            "   </div>\n",
            "  </body>\n",
            " </head>\n",
            "</html>\n"
          ],
          "name": "stdout"
        },
        {
          "output_type": "stream",
          "text": [
            "main_htm.py:None: UserWarning: Auto prettifying also involves auto closing unclosed HTML tags which may not be accurate if not used after development is complete.\n",
            "Use after all development for best results. See \"bs4 auto closing tags\" for more info.\n"
          ],
          "name": "stderr"
        }
      ]
    },
    {
      "cell_type": "code",
      "metadata": {
        "id": "fDxMWP3nlw_I"
      },
      "source": [
        "# Say you make some mistakes with your code, like closing the meta tag with an exclusive close tag:"
      ],
      "execution_count": null,
      "outputs": []
    },
    {
      "cell_type": "code",
      "metadata": {
        "colab": {
          "base_uri": "https://localhost:8080/"
        },
        "id": "9uGhAf54nljQ",
        "outputId": "529ebe9c-baf5-42c2-ef95-56902f68c19a"
      },
      "source": [
        "title('Some title')\n",
        "\n",
        "@tag\n",
        "def meta(**kwargs):\n",
        "    pass\n",
        "meta(text='', name=\"description\", content=\"some content that describes the webpage\")\n",
        "\n",
        "# Using argument text creates an opening an a closing tag with text in between\n",
        "\n",
        "file = codecs.open(\"index.html\", \"r\", \"utf-8\")\n",
        "print(file.read())"
      ],
      "execution_count": null,
      "outputs": [
        {
          "output_type": "stream",
          "text": [
            "<!doctype html>\n",
            "<html lang=\"en\">\n",
            "<meta charset=\"utf-8\">\n",
            "<head>\n",
            "<title>Some title</title>\n",
            "<link rel=\"stylesheet\" href=\"style.css\">\n",
            "<meta name=\"description\" content=\"some content that describes the webpage\"></meta>\n"
          ],
          "name": "stdout"
        }
      ]
    },
    {
      "cell_type": "code",
      "metadata": {
        "id": "NqG5AjBvoSyz"
      },
      "source": [
        "# Notice on the last line how there's a closing tag for it. This is wrong syntax. But with autoPrettify():"
      ],
      "execution_count": null,
      "outputs": []
    },
    {
      "cell_type": "code",
      "metadata": {
        "colab": {
          "base_uri": "https://localhost:8080/"
        },
        "id": "-TJmbCtiolc7",
        "outputId": "fcdb225d-94f1-46cf-842e-354ed6f0f9df"
      },
      "source": [
        "autoPrettify()\n",
        "\n",
        "file = codecs.open(\"index.html\", \"r\", \"utf-8\")\n",
        "print(file.read())"
      ],
      "execution_count": null,
      "outputs": [
        {
          "output_type": "stream",
          "text": [
            "<!DOCTYPE doctype html>\n",
            "<html lang=\"en\">\n",
            " <meta charset=\"utf-8\"/>\n",
            " <head>\n",
            "  <title>\n",
            "   Some title\n",
            "  </title>\n",
            "  <link href=\"style.css\" rel=\"stylesheet\"/>\n",
            "  <meta content=\"some content that describes the webpage\" name=\"description\"/>\n",
            " </head>\n",
            "</html>\n"
          ],
          "name": "stdout"
        },
        {
          "output_type": "stream",
          "text": [
            "main_htm.py:None: UserWarning: Auto prettifying also involves auto closing unclosed HTML tags which may not be accurate if not used after development is complete.\n",
            "Use after all development for best results. See \"bs4 auto closing tags\" for more info.\n"
          ],
          "name": "stderr"
        }
      ]
    },
    {
      "cell_type": "code",
      "metadata": {
        "id": "I7Mw4Ojwop6q"
      },
      "source": [
        "# Everything is set right, just magically"
      ],
      "execution_count": null,
      "outputs": []
    },
    {
      "cell_type": "code",
      "metadata": {
        "id": "85qNT5KApBnc"
      },
      "source": [
        "# That's the power of autoPrettify(). It senses, and hadles tags intelligently, so small slip ups"
      ],
      "execution_count": null,
      "outputs": []
    },
    {
      "cell_type": "code",
      "metadata": {
        "id": "LYcBkQGzpK62"
      },
      "source": [
        "# will not matter at all!"
      ],
      "execution_count": null,
      "outputs": []
    },
    {
      "cell_type": "code",
      "metadata": {
        "id": "Y_pTFbjLpQd2"
      },
      "source": [
        "# Still waiting to pip install sierra?"
      ],
      "execution_count": null,
      "outputs": []
    },
    {
      "cell_type": "code",
      "metadata": {
        "id": "hdDfTpGjpUkh"
      },
      "source": [
        ""
      ],
      "execution_count": null,
      "outputs": []
    }
  ]
}